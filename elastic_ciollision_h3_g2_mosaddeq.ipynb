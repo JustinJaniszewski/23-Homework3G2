{
  "cells": [
    {
      "cell_type": "code",
      "execution_count": 6,
      "metadata": {
        "colab": {
          "base_uri": "https://localhost:8080/"
        },
        "id": "Oa4To7LB8l4A",
        "outputId": "3e5255af-e166-4852-ea84-7a1abdbf7bf4"
      },
      "outputs": [
        {
          "name": "stdout",
          "output_type": "stream",
          "text": [
            "Object 1: Final velocities after collision: v1 = 2.33 m/s, v2 = 4.33 m/s\n",
            "Object 2: Final velocities after collision: v1 = -1.00 m/s, v2 = 3.00 m/s\n",
            "Object 3: Final velocities after collision: v1 = 0.20 m/s, v2 = 3.20 m/s\n",
            "Initial Total Kinetic Energy: 18.50 J\n",
            "Final Total Kinetic Energy: 7.02 J\n"
          ]
        }
      ],
      "source": [
        "\n",
        "from functools import reduce\n",
        "\n",
        "# Function to calculate the final velocities of two objects after an elastic collision\n",
        "def elastic_collision(m1, m2, u1, u2):\n",
        "    v1 = ((m1 - m2) / (m1 + m2)) * u1 + ((2 * m2) / (m1 + m2)) * u2\n",
        "    v2 = ((2 * m1) / (m1 + m2)) * u1 - ((m1 - m2) / (m1 + m2)) * u2\n",
        "    return v1, v2\n",
        "\n",
        "# List of masses (in kg) and initial velocities (in m/s)\n",
        "masses = [2.0, 3.0, 4.0]\n",
        "initial_velocities = [3.0, 1.0, 2.0]\n",
        "\n",
        "# Use map and lambda to calculate the final velocities after elastic collision\n",
        "final_velocities = list(map(lambda m, u: elastic_collision(1.0, m, 5.0, u), masses, initial_velocities))\n",
        "\n",
        "# Print the final velocities for each object after the collision\n",
        "for i, (v1, v2) in enumerate(final_velocities):\n",
        "    print(f\"Object {i+1}: Final velocities after collision: v1 = {v1:.2f} m/s, v2 = {v2:.2f} m/s\")\n",
        "\n",
        "# Function to calculate the total kinetic energy\n",
        "def calculate_total_kinetic_energy(masses, velocities):\n",
        "    kinetic_energy = map(lambda m, v: 0.5 * m * v**2, masses, velocities)\n",
        "    return reduce(lambda x, y: x + y, kinetic_energy)\n",
        "\n",
        "# Calculate and print the total kinetic energy before and after the collision\n",
        "initial_kinetic_energy = calculate_total_kinetic_energy(masses, initial_velocities)\n",
        "final_kinetic_energy = calculate_total_kinetic_energy(masses, [v1 for v1, _ in final_velocities])\n",
        "\n",
        "print(f\"Initial Total Kinetic Energy: {initial_kinetic_energy:.2f} J\")\n",
        "print(f\"Final Total Kinetic Energy: {final_kinetic_energy:.2f} J\")"
      ]
    },
    {
      "cell_type": "code",
      "execution_count": 24,
      "metadata": {},
      "outputs": [
        {
          "name": "stdout",
          "output_type": "stream",
          "text": [
            "Object 1: Final velocities after collision: v1 = 2.33 m/s, v2 = 4.33 m/s\n",
            "Object 2: Final velocities after collision: v1 = -4.00 m/s, v2 = 2.00 m/s\n",
            "Initial Total Kinetic Energy: 10.5J\n",
            "Final Total Kinetic Energy: 10.5J\n"
          ]
        }
      ],
      "source": [
        "from functools import reduce\n",
        "\n",
        "# Function to calculate the final velocities of two objects after an elastic collision\n",
        "def elastic_collision(m1, m2, u1, u2):\n",
        "    v1=(m1-m2)*u1/(m1+m2)+(2*m2*u2)/(m1+m2)\n",
        "    v2=(m2-m1)*u2/(m1+m2)+(2*m1*u1)/(m1+m2)\n",
        "    return(v1, v2)\n",
        "\n",
        "# List of masses (in kg) and initial velocities (in m/s)\n",
        "masses = [2.0,3.0]\n",
        "initial_velocities = [3.0,-1.0]# negative sign indicates the direction of the movement\n",
        "\n",
        "# Use map and lambda to calculate the final velocities after elastic collision\n",
        "final_velocities = list(map(lambda m, u: elastic_collision(1.0, m, 5.0, u), masses, initial_velocities))\n",
        "\n",
        "# Print the final velocities for each object after the collision\n",
        "for i, (v1, v2) in enumerate(final_velocities):\n",
        "    print(f\"Object {i+1}: Final velocities after collision: v1 = {v1:.2f} m/s, v2 = {v2:.2f} m/s\")\n",
        "\n",
        "# Function to calculate the total kinetic energy\n",
        "def calculate_total_kinetic_energy(m1,m2,u1,u2):\n",
        "    kinetic_energy=0.5*(m1*u1**2+m2*u2**2)\n",
        "    return kinetic_energy\n",
        "    #kinetic_energy = map(lambda m, v: 0.5 * m * v**2, masses, velocities)\n",
        "    #return reduce(lambda x, y: x + y, kinetic_energy)\n",
        "\n",
        "# Calculate and print the total kinetic energy before and after the collision\n",
        "#initial_kinetic_energy = calculate_total_kinetic_energy(m1,m2,u1,u2)\n",
        "#final_kinetic_energy = calculate_total_kinetic_energy(m1,m2,v1,v2)\n",
        "\n",
        "print('Initial Total Kinetic Energy: ' +str(calculate_total_kinetic_energy(masses[0],masses[1],initial_velocities[0],initial_velocities[1]))+'J')\n",
        "print('Final Total Kinetic Energy: '+str(round(calculate_total_kinetic_energy(masses[0],masses[1],elastic_collision(masses[0],masses[1],initial_velocities[0],initial_velocities[1])[0],elastic_collision(masses[0],masses[1],initial_velocities[0],initial_velocities[1])[1]),10))+'J')"
      ]
    }
  ],
  "metadata": {
    "colab": {
      "provenance": []
    },
    "kernelspec": {
      "display_name": "Python 3",
      "name": "python3"
    },
    "language_info": {
      "codemirror_mode": {
        "name": "ipython",
        "version": 3
      },
      "file_extension": ".py",
      "mimetype": "text/x-python",
      "name": "python",
      "nbconvert_exporter": "python",
      "pygments_lexer": "ipython3",
      "version": "3.11.4"
    }
  },
  "nbformat": 4,
  "nbformat_minor": 0
}
